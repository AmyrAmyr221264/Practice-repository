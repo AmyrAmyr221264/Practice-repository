{
 "cells": [
  {
   "cell_type": "code",
   "execution_count": 1,
   "metadata": {},
   "outputs": [],
   "source": [
    "import requests\n",
    "from bs4 import BeautifulSoup\n",
    "import os\n",
    "\n",
    "def scrape_images(search_query, num_images):\n",
    "    url = f'https://www.google.com/search?q={search_query}&tbm=isch'\n",
    "    response = requests.get(url)\n",
    "    \n",
    "    if response.status_code == 200:\n",
    "        soup = BeautifulSoup(response.text, 'html.parser')\n",
    "        img_tags = soup.find_all('img', class_='t0fcAb')\n",
    "\n",
    "        for i, img_tag in enumerate(img_tags[:num_images]):\n",
    "            img_url = img_tag['src']\n",
    "            response = requests.get(img_url)\n",
    "\n",
    "            with open(f'image_{i+1}.jpg', 'wb') as img_file:\n",
    "                img_file.write(response.content)\n",
    "\n",
    "if __name__ == \"__main__\":\n",
    "    search_query = \"sunflower growth stages\"\n",
    "    num_images = 10\n",
    "    scrape_images(search_query, num_images)"
   ]
  }
 ],
 "metadata": {
  "kernelspec": {
   "display_name": "practice",
   "language": "python",
   "name": "python3"
  },
  "language_info": {
   "codemirror_mode": {
    "name": "ipython",
    "version": 3
   },
   "file_extension": ".py",
   "mimetype": "text/x-python",
   "name": "python",
   "nbconvert_exporter": "python",
   "pygments_lexer": "ipython3",
   "version": "3.10.13"
  }
 },
 "nbformat": 4,
 "nbformat_minor": 2
}
